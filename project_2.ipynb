{
 "cells": [
  {
   "cell_type": "code",
   "execution_count": 1,
   "id": "c82f42da",
   "metadata": {},
   "outputs": [],
   "source": [
    "import pandas as pd\n",
    "from sklearn.svm import SVC\n",
    "from sklearn.metrics import confusion_matrix, ConfusionMatrixDisplay\n",
    "from sklearn import metrics\n",
    "from sklearn.model_selection import KFold\n",
    "from sklearn.model_selection import GridSearchCV\n",
    "import matplotlib.pyplot as plt\n",
    "import seaborn as sns\n",
    "import h5py"
   ]
  },
  {
   "cell_type": "code",
   "execution_count": 2,
   "id": "006722cd",
   "metadata": {},
   "outputs": [],
   "source": [
    "# load data\n",
    "path = 'usps.h5'\n",
    "hf = h5py.File(path, 'r')"
   ]
  },
  {
   "cell_type": "code",
   "execution_count": 5,
   "id": "3c867566",
   "metadata": {},
   "outputs": [
    {
     "data": {
      "text/plain": [
       "<KeysViewHDF5 ['test', 'train']>"
      ]
     },
     "execution_count": 5,
     "metadata": {},
     "output_type": "execute_result"
    }
   ],
   "source": [
    "hf.keys()"
   ]
  },
  {
   "cell_type": "code",
   "execution_count": 6,
   "id": "df46b4dd",
   "metadata": {},
   "outputs": [],
   "source": [
    "train = hf.get('train')"
   ]
  },
  {
   "cell_type": "code",
   "execution_count": 7,
   "id": "66c815bd",
   "metadata": {},
   "outputs": [
    {
     "data": {
      "text/plain": [
       "<KeysViewHDF5 ['data', 'target']>"
      ]
     },
     "execution_count": 7,
     "metadata": {},
     "output_type": "execute_result"
    }
   ],
   "source": [
    "train.keys()"
   ]
  },
  {
   "cell_type": "code",
   "execution_count": null,
   "id": "69aff9c2",
   "metadata": {},
   "outputs": [],
   "source": [
    "X_train = train.get('data')[:]\n",
    "y_train = train.get('target')[:]\n",
    "test = hf.get('test')\n",
    "X_test = test.get('data')[:]\n",
    "y_test = test.get('target')[:]"
   ]
  },
  {
   "cell_type": "code",
   "execution_count": null,
   "id": "321f3be4",
   "metadata": {},
   "outputs": [],
   "source": [
    "# Plot number of data of each class\n",
    "sns.countplot(y_train, palette = 'icefire')"
   ]
  },
  {
   "cell_type": "code",
   "execution_count": null,
   "id": "954ced11",
   "metadata": {},
   "outputs": [],
   "source": [
    "# Plotting some samples\n",
    "plt.figure()\n",
    "row_num = 6\n",
    "ss = X_train[row_num, 0:]\n",
    "ss.shape\n",
    "ss = ss.reshape(16,16)\n",
    "plt.imshow(ss, cmap='gray')\n",
    "plt.title(\"Digit\" + str(y_train[row_num]))"
   ]
  },
  {
   "cell_type": "code",
   "execution_count": null,
   "id": "58610efe",
   "metadata": {},
   "outputs": [],
   "source": [
    "#Normalization\n",
    "X_train = X_train/255.0\n",
    "X_test = X_test/255.0"
   ]
  },
  {
   "cell_type": "code",
   "execution_count": null,
   "id": "367f618f",
   "metadata": {},
   "outputs": [],
   "source": []
  }
 ],
 "metadata": {
  "kernelspec": {
   "display_name": "Python 3 (ipykernel)",
   "language": "python",
   "name": "python3"
  },
  "language_info": {
   "codemirror_mode": {
    "name": "ipython",
    "version": 3
   },
   "file_extension": ".py",
   "mimetype": "text/x-python",
   "name": "python",
   "nbconvert_exporter": "python",
   "pygments_lexer": "ipython3",
   "version": "3.10.8"
  }
 },
 "nbformat": 4,
 "nbformat_minor": 5
}
